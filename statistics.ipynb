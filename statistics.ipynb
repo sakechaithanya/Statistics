{
 "cells": [
  {
   "cell_type": "markdown",
   "id": "7aa5da16-c8f5-449b-b633-dbbd34ffef92",
   "metadata": {},
   "source": [
    "Q1. What are the three measures of central tendency?\n",
    "The three measures of central tendency are:\n",
    "\n",
    "Mean: The mean, or average, is calculated by adding up all the values in a data set and then dividing by the number of values. It is sensitive to extreme values and can be affected by outliers.\n",
    "\n",
    "Median: The median is the middle value of a data set when it is ordered from least to greatest. If there is an even number of observations, the median is the average of the two middle values. The median is less affected by extreme values compared to the mean.\n",
    "\n",
    "Mode: The mode is the value that appears most frequently in a data set. A data set may have one mode, more than one mode (multimodal), or no mode at all. The mode is particularly useful for categorical data, but it can also be applied to numerical data."
   ]
  },
  {
   "cell_type": "markdown",
   "id": "b8fb1148-cdc1-44d2-b805-bef71aac6e44",
   "metadata": {},
   "source": [
    "Q2. What is the difference between the mean, median, and mode? How are they used to measure the\n",
    "central tendency of a dataset?\n",
    "The mean, median, and mode are all measures of central tendency, but they assess central tendency in different ways:\n",
    "\n",
    "Mean:\n",
    "\n",
    "Calculation: It is the sum of all values in a dataset divided by the number of values.\n",
    "Sensitivity: Sensitive to extreme values (outliers) because it takes into account every value.\n",
    "Usage: Commonly used when data is approximately symmetrically distributed and does not have extreme values that significantly skew the results.\n",
    "Median:\n",
    "\n",
    "Calculation: It is the middle value of a dataset when it is ordered from least to greatest. If there is an even number of values, the median is the average of the two middle values.\n",
    "Sensitivity: Less sensitive to extreme values compared to the mean. It only depends on the middle values.\n",
    "Usage: Useful when dealing with skewed distributions or datasets containing outliers, as it is not as affected by extreme values as the mean.\n",
    "Mode:\n",
    "\n",
    "Calculation: It is the value that appears most frequently in a dataset.\n",
    "Sensitivity: Less affected by extreme values, but may not exist or be unique in some datasets.\n",
    "Usage: Most useful for categorical data, but it can also be applied to numerical data. It is particularly handy when identifying the most common category or value in a distribution.\n",
    "How they are used to measure central tendency:\n",
    "\n",
    "The mean provides a measure of the average value in a dataset.\n",
    "The median gives the middle value, which is useful when dealing with skewed distributions or datasets with outliers.\n",
    "The mode helps identify the most frequently occurring value or category."
   ]
  },
  {
   "cell_type": "markdown",
   "id": "c5bb3d0c-d76d-458e-99d3-c4e3e4b0b916",
   "metadata": {},
   "source": [
    "Q3. Measure the three measures of central tendency for the given height data:\n",
    "[178,177,176,177,178.2,178,175,179,180,175,178.9,176.2,177,172.5,178,176.5]"
   ]
  },
  {
   "cell_type": "code",
   "execution_count": 5,
   "id": "e71caead-6aee-461b-8819-fb77bf6b4d93",
   "metadata": {},
   "outputs": [],
   "source": [
    "import numpy as np\n",
    "data=[178,177,176,177,178.2,178,175,179,180,175,178.9,176.2,177,172.5,178,176.5]"
   ]
  },
  {
   "cell_type": "code",
   "execution_count": 2,
   "id": "9b494183-a6b3-42e7-b653-b0b5a9ea01c0",
   "metadata": {},
   "outputs": [
    {
     "data": {
      "text/plain": [
       "177.01875"
      ]
     },
     "execution_count": 2,
     "metadata": {},
     "output_type": "execute_result"
    }
   ],
   "source": [
    "np.mean(data)"
   ]
  },
  {
   "cell_type": "code",
   "execution_count": 3,
   "id": "b2bca64b-0c48-4d6e-8cc4-527e22fd80e9",
   "metadata": {},
   "outputs": [
    {
     "data": {
      "text/plain": [
       "177.0"
      ]
     },
     "execution_count": 3,
     "metadata": {},
     "output_type": "execute_result"
    }
   ],
   "source": [
    "np.median(data)"
   ]
  },
  {
   "cell_type": "code",
   "execution_count": 6,
   "id": "98690710-25c3-4445-bec9-7c85eaea8313",
   "metadata": {},
   "outputs": [
    {
     "name": "stderr",
     "output_type": "stream",
     "text": [
      "/tmp/ipykernel_78/2800027621.py:2: FutureWarning: Unlike other reduction functions (e.g. `skew`, `kurtosis`), the default behavior of `mode` typically preserves the axis it acts along. In SciPy 1.11.0, this behavior will change: the default value of `keepdims` will become False, the `axis` over which the statistic is taken will be eliminated, and the value None will no longer be accepted. Set `keepdims` to True or False to avoid this warning.\n",
      "  stats.mode(data)\n"
     ]
    },
    {
     "data": {
      "text/plain": [
       "ModeResult(mode=array([177.]), count=array([3]))"
      ]
     },
     "execution_count": 6,
     "metadata": {},
     "output_type": "execute_result"
    }
   ],
   "source": [
    "from scipy import stats\n",
    "stats.mode(data)"
   ]
  },
  {
   "cell_type": "code",
   "execution_count": null,
   "id": "1b8b5462-12b3-41c3-9781-13d0b538d544",
   "metadata": {},
   "outputs": [],
   "source": [
    "Q4. Find the standard deviation for the given data:\n",
    "[178,177,176,177,178.2,178,175,179,180,175,178.9,176.2,177,172.5,178,176.5]"
   ]
  },
  {
   "cell_type": "code",
   "execution_count": 8,
   "id": "78f825fc-afe7-47ce-b67f-c9032ed3a483",
   "metadata": {},
   "outputs": [
    {
     "data": {
      "text/plain": [
       "1.7885814036548633"
      ]
     },
     "execution_count": 8,
     "metadata": {},
     "output_type": "execute_result"
    }
   ],
   "source": [
    "data=[178,177,176,177,178.2,178,175,179,180,175,178.9,176.2,177,172.5,178,176.5]\n",
    "np.std(data)"
   ]
  },
  {
   "cell_type": "markdown",
   "id": "f146e600-a19e-4f1c-b362-afacd8bd57ef",
   "metadata": {},
   "source": [
    "\n",
    "Q5. How are measures of dispersion such as range, variance, and standard deviation used to describe\n",
    "the spread of a dataset? Provide an example.\n",
    "Measures of dispersion, such as range, variance, and standard deviation, provide insights into how spread out or concentrated the values in a dataset are. They complement measures of central tendency (like mean, median, and mode) by offering information about the variability of the data. Here's a brief explanation of each, along with an example:\n",
    "\n",
    "Range:\n",
    "\n",
    "Calculation: Range is the difference between the maximum and minimum values in a dataset.\n",
    "Example: Consider two datasets - Dataset A: [10, 15, 20, 25, 30] and Dataset B: [5, 15, 25, 35, 45]. Both datasets have a range of 20 (30 - 10), indicating the extent of the spread. However, Dataset B is more dispersed as its values are farther apart.\n",
    "Variance:\n",
    "\n",
    "Calculation: Variance is the average of the squared differences from the mean. It provides a measure of how much each data point differs from the mean.\n",
    "Example: Let's take two datasets - Dataset C: [5, 10, 15, 20, 25] and Dataset D: [10, 10, 15, 20, 20]. Both have a mean of 15, but Dataset C is more dispersed as its values deviate further from the mean. The variance formula involves squaring these differences, averaging them, and then taking the square root (standard deviation).\n",
    "Standard Deviation:\n",
    "\n",
    "Calculation: Standard deviation is the square root of the variance. It measures the average deviation of each data point from the mean.\n",
    "Example: Using the datasets from the variance example, Dataset C has a larger standard deviation than Dataset D. This indicates that the values in Dataset C are more spread out from the mean compared to Dataset D.\n",
    "Example Calculation:\n",
    "\n",
    "Consider a dataset representing the monthly sales (in thousands) of a product over six months: [12, 15, 18, 14, 20, 16].\n",
    "\n",
    "Mean: (12 + 15 + 18 + 14 + 20 + 16) / 6 = 95 / 6 ≈ 15.83\n",
    "\n",
    "Range: Maximum value (20) - Minimum value (12) = 8\n",
    "\n",
    "Variance: Calculate the squared differences from the mean, sum them up, and divide by the number of data points. Variance = (1/6) * [(12-15.83)² + (15-15.83)² + ... + (16-15.83)²]\n",
    "\n",
    "Standard Deviation: Take the square root of the variance."
   ]
  },
  {
   "cell_type": "markdown",
   "id": "9bd717bb-ee5c-450a-934c-f5ce16c7a3e2",
   "metadata": {},
   "source": [
    "Q6. What is a Venn diagram?\n",
    "\n",
    "A Venn diagram is a graphical representation of the relationships between different sets or groups of items. It is composed of overlapping circles, each representing a set, and the overlapping regions represent the elements that are common to those sets. Key features of a Venn diagram:\n",
    "\n",
    "Circles: Each circle in a Venn diagram represents a set. The size of the circle is not significant and is often chosen for clarity and visual appeal.\n",
    "\n",
    "Overlap: The overlapping regions between circles represent the elements that belong to more than one set. The size of the overlap indicates the degree of intersection between the sets.\n",
    "\n",
    "Non-overlapping regions: The non-overlapping parts of the circles represent elements unique to each set.\n",
    "\n",
    "Venn diagrams are commonly used to visually represent relationships and interactions between different groups or categories. They are particularly useful in illustrating concepts related to set theory, logic, and probability."
   ]
  },
  {
   "cell_type": "markdown",
   "id": "5cc6aa07-e3ca-4c52-a047-824e925e27b5",
   "metadata": {},
   "source": [
    "Q7. For the two given sets A = (2,3,4,5,6,7) & B = (0,2,6,8,10). Find:\n",
    "(i) A∩B\n",
    "(ii) A ⋃ B"
   ]
  },
  {
   "cell_type": "code",
   "execution_count": 7,
   "id": "c11c1eb9-14a5-459b-9037-43b0c27d9ffd",
   "metadata": {},
   "outputs": [],
   "source": [
    "A = {2,3,4,5,6,7}\n",
    "B = {0,2,6,8,10}"
   ]
  },
  {
   "cell_type": "code",
   "execution_count": 8,
   "id": "18dfc812-cc3a-46b5-bb23-b2988b5e0b26",
   "metadata": {},
   "outputs": [
    {
     "data": {
      "text/plain": [
       "{0, 2, 3, 4, 5, 6, 7, 8, 10}"
      ]
     },
     "execution_count": 8,
     "metadata": {},
     "output_type": "execute_result"
    }
   ],
   "source": [
    "A.union(B)"
   ]
  },
  {
   "cell_type": "code",
   "execution_count": 10,
   "id": "1e50d56c-1984-4b51-a6b3-d50b7f8280c7",
   "metadata": {},
   "outputs": [
    {
     "data": {
      "text/plain": [
       "{2, 6}"
      ]
     },
     "execution_count": 10,
     "metadata": {},
     "output_type": "execute_result"
    }
   ],
   "source": [
    "A.intersection(B)"
   ]
  },
  {
   "cell_type": "markdown",
   "id": "b341fe7a-8d86-4d6d-9806-c4378e835692",
   "metadata": {},
   "source": [
    "Q8. What do you understand about skewness in data?\n",
    "\n",
    "Skewness is a measure of the asymmetry or skew of a probability distribution or dataset. In other words, it quantifies the extent and direction of skew (departure from horizontal symmetry) in the data. A distribution or dataset can be positively skewed (tail on the right side), negatively skewed (tail on the left side), or approximately symmetric.\n",
    "\n",
    "Here are the key characteristics of skewness:\n",
    "\n",
    "Positively Skewed (Right-skewed):\n",
    "\n",
    "The right tail is longer or fatter than the left tail.\n",
    "The majority of the data points are concentrated on the left side of the distribution.\n",
    "The mean is typically greater than the median.\n",
    "Negatively Skewed (Left-skewed):\n",
    "\n",
    "The left tail is longer or fatter than the right tail.\n",
    "The majority of the data points are concentrated on the right side of the distribution.\n",
    "The mean is typically less than the median.\n",
    "Symmetric:\n",
    "\n",
    "The distribution is roughly balanced on both sides.\n",
    "The mean is equal to the median in a perfectly symmetric distribution.\n",
    "The skewness coefficient is used to quantify the degree of skewness. A positive skewness indicates right-skewness, while a negative skewness indicates left-skewness.\n",
    "\n",
    "Understanding skewness in a dataset is crucial in statistical analysis because it provides insights into the distribution's shape and helps in selecting appropriate statistical methods"
   ]
  },
  {
   "cell_type": "markdown",
   "id": "e5671c60-de34-4648-a5ef-2634c4f5c614",
   "metadata": {},
   "source": [
    "Q9. If a data is right skewed then what will be the position of median with respect to mean?\n",
    "MEDIAN LESSTHAN MEAN"
   ]
  },
  {
   "cell_type": "markdown",
   "id": "3dcca1a1-5104-46fb-8f03-831e3a0aa34a",
   "metadata": {},
   "source": [
    "Q10. Explain the difference between covariance and correlation. How are these measures used in\n",
    "statistical analysis?\n",
    "\n",
    "\n",
    "Covariance and correlation are both measures that describe the relationship between two variables in statistical analysis, but they differ in terms of scale and interpretation.\n",
    "\n",
    "Covariance:\n",
    "\n",
    "Definition: Covariance measures the degree to which two variables change together. It indicates whether an increase in one variable corresponds to an increase or decrease in another.\n",
    "Calculation: The covariance between two variables, X and Y, is calculated as the average of the product of the deviations of each variable from its mean.\n",
    "\n",
    "Scale: The scale of covariance is not standardized, and it can take any value between negative infinity and positive infinity.\n",
    "Interpretation: A positive covariance indicates a positive relationship (both variables tend to increase or decrease together), while a negative covariance indicates an inverse relationship (one variable tends to increase as the other decreases).\n",
    "Limitations: The magnitude of covariance is not easily interpretable, and it depends on the scales of the variables. Therefore, comparing covariances across different datasets or variable scales can be challenging.\n",
    "Correlation:\n",
    "\n",
    "Definition: Correlation is a standardized measure of the strength and direction of the linear relationship between two variables. It normalizes the covariance by dividing it by the product of the standard deviations of the two variables.\n",
    "Scale: The correlation coefficient ranges from -1 to 1, providing a standardized measure. A correlation of 1 indicates a perfect positive linear relationship, -1 indicates a perfect negative linear relationship, and 0 indicates no linear relationship.\n",
    "Interpretation: Correlation is more interpretable than covariance because it is dimensionless and standardized. A correlation coefficient close to 1 or -1 indicates a strong linear relationship, while a coefficient close to 0 suggests a weak or no linear relationship.\n",
    "Advantages: Correlation allows for comparisons between different datasets and variables, as it is not affected by the scale of the variables.\n",
    "Use in Statistical Analysis:\n",
    "\n",
    "Covariance and correlation are both used to examine the relationship between two variables in statistical analysis.\n",
    "Covariance is utilized to understand the direction (positive or negative) of the relationship and whether the variables tend to move together or in opposite directions.\n",
    "Correlation is often preferred in practice because of its standardized scale, which makes it easier to interpret and compare. It is widely used in fields such as finance, economics, and social sciences to quantify the strength and direction of relationships between variables."
   ]
  },
  {
   "cell_type": "markdown",
   "id": "e8ed5159-5105-4aa1-9c2c-40ea054a8622",
   "metadata": {},
   "source": [
    "Q11. What is the formula for calculating the sample mean? Provide an example calculation for a\n",
    "dataset.\n",
    "\n",
    "Calculation fo Sample Mean\n",
    "The sample mean formula is: x̄= (xi)/n It is easier than you believe if that sounds complex\n"
   ]
  },
  {
   "cell_type": "code",
   "execution_count": 1,
   "id": "c0805659-0860-40ce-a3ff-e2c30ab40781",
   "metadata": {},
   "outputs": [],
   "source": [
    "X=[1,2,3,4,5]"
   ]
  },
  {
   "cell_type": "code",
   "execution_count": 2,
   "id": "567c49ad-b9a3-4e60-9ba3-c90c94c00501",
   "metadata": {},
   "outputs": [
    {
     "data": {
      "text/plain": [
       "11.0"
      ]
     },
     "execution_count": 2,
     "metadata": {},
     "output_type": "execute_result"
    }
   ],
   "source": [
    "1+2+3+4+5/5"
   ]
  },
  {
   "cell_type": "markdown",
   "id": "96251df8-eda1-4fe9-baf6-5a868bc1f0c0",
   "metadata": {},
   "source": [
    "Q12. For a normal distribution data what is the relationship between its measure of central tendency?\n",
    "\n",
    "\n",
    "For a normal distribution, the relationship between its measures of central tendency (mean, median, and mode) is that they are all equal. In a perfectly symmetrical normal distribution:\n",
    "\n",
    "Mean (μ): The arithmetic mean, which is calculated by summing all the data values and dividing by the number of values, is at the center of the distribution.\n",
    "\n",
    "Median: The median, which is the middle value when the data is sorted in ascending or descending order, is also at the center of the distribution in a normal distribution. Since the normal distribution is symmetric, the mean and median coincide.\n",
    "\n",
    "Mode: The mode, representing the most frequently occurring value, is also equal to the mean and median in a normal distribution. In a normal distribution, there is a single peak, and the distribution is unimodal."
   ]
  },
  {
   "cell_type": "markdown",
   "id": "7007431e-cd69-4b0c-afef-ae2bdfc0027c",
   "metadata": {},
   "source": [
    "Q13. How is covariance different from correlation?\n",
    "\n",
    "Covariance and correlation are both measures that describe the relationship between two variables, but they differ in terms of scale and interpretation\n",
    "\n",
    "Scale: Covariance is not standardized and can take any value, making it challenging to compare across different datasets or variables. Correlation, on the other hand, is standardized and always ranges between -1 and 1.\n",
    "\n",
    "Interpretability: Correlation is more interpretable than covariance because it has a clear scale and indicates both the strength and direction of the linear relationship.\n",
    "\n",
    "Units: Covariance is in the units of the product of the units of the two variables. Correlation is dimensionless, as it involves standardizing by the product of the standard deviations."
   ]
  },
  {
   "cell_type": "markdown",
   "id": "d2b4e0e1-3f6e-4ab8-a4cc-015b584539e7",
   "metadata": {},
   "source": [
    "Q14. How do outliers affect measures of central tendency and dispersion? Provide an example.\n",
    "\n",
    "\n",
    "Outliers can significantly impact measures of central tendency and dispersion, often distorting the summary statistics and providing an inaccurate representation of the overall data. Here's how outliers affect these measures:\n",
    "\n",
    "Measures of Central Tendency:\n",
    "\n",
    "Mean: Outliers can pull the mean in their direction. If there are extremely high or low values, they contribute disproportionately to the sum in the mean calculation, leading to an overestimation or underestimation of the average.\n",
    "Median: The median is less sensitive to outliers since it depends only on the middle value. Outliers have a minimal impact on the median, making it a robust measure in the presence of extreme values.\n",
    "Mode: The mode may not be affected by outliers, as it represents the most frequently occurring value. However, in some cases, an outlier might create a new mode or shift the existing mode.\n",
    "Measures of Dispersion:\n",
    "\n",
    "Range: Outliers can significantly impact the range, as it is calculated as the difference between the maximum and minimum values. Even a single outlier can greatly increase the range.\n",
    "Variance and Standard Deviation: Both variance and standard deviation are sensitive to outliers because they involve squaring the differences from the mean. Outliers with large deviations from the mean contribute disproportionately to the sum of squared differences.\n",
    "Interquartile Range (IQR): The IQR, which is the range of the middle 50% of the data, is less affected by outliers than the range. However, extreme outliers can still influence the IQR."
   ]
  },
  {
   "cell_type": "code",
   "execution_count": null,
   "id": "00ebdac5-6cc9-4c4f-b362-0bd29e4e91e3",
   "metadata": {},
   "outputs": [],
   "source": []
  }
 ],
 "metadata": {
  "kernelspec": {
   "display_name": "Python 3 (ipykernel)",
   "language": "python",
   "name": "python3"
  },
  "language_info": {
   "codemirror_mode": {
    "name": "ipython",
    "version": 3
   },
   "file_extension": ".py",
   "mimetype": "text/x-python",
   "name": "python",
   "nbconvert_exporter": "python",
   "pygments_lexer": "ipython3",
   "version": "3.10.8"
  }
 },
 "nbformat": 4,
 "nbformat_minor": 5
}
